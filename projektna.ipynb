{
 "cells": [
  {
   "cell_type": "code",
   "execution_count": 30,
   "metadata": {},
   "outputs": [],
   "source": [
    "from csv import DictReader\n",
    "import re\n",
    "import matplotlib\n",
    "from matplotlib.pyplot import figure\n",
    "import matplotlib.pyplot as plt"
   ]
  },
  {
   "cell_type": "code",
   "execution_count": 31,
   "metadata": {},
   "outputs": [],
   "source": [
    "reader = DictReader(open('podatki/st_in_vrednost_nepremicnin.csv', 'rt', encoding='utf-8'))\n",
    "\n",
    "tabela = dict()\n",
    "\n",
    "for col in reader.fieldnames:\n",
    "    tabela[col] = []\n",
    "    for row in reader:\n",
    "        tabela[col].append(row[col])\n",
    "    reader = DictReader(open('podatki/st_in_vrednost_nepremicnin.csv', 'rt', encoding='utf-8'))\n"
   ]
  },
  {
   "cell_type": "code",
   "execution_count": 32,
   "metadata": {},
   "outputs": [
    {
     "name": "stdout",
     "output_type": "stream",
     "text": [
      "['1 Dwellings - TOTAL', '1.1 Newly built dwellings', '1.1.1 Newly built flats', '1.1.2 Newly built family houses', '1.2 Existing dwellings', '1.2.1 Existing flats, Slovenia', '1.2.2 Existing family houses']\n",
      "0\n"
     ]
    }
   ],
   "source": [
    "tabela.keys() #vsi stolpci\n",
    "\n",
    "vrstica = tabela[\"DWELLINGS\"] #prvi stolpec, pove kaj pomeni posamezna vrstica\n",
    "\n",
    "print(vrstica) #izpiši prvi stolpec\n",
    "\n",
    "zanimiva_vr = vrstica.index(\"1 Dwellings - TOTAL\")  #pridobi vrstico, ki te zanima\n",
    "\n",
    "print(zanimiva_vr)\n"
   ]
  },
  {
   "cell_type": "code",
   "execution_count": 33,
   "metadata": {},
   "outputs": [
    {
     "name": "stdout",
     "output_type": "stream",
     "text": [
      "2010Q1 Number of transactions\n",
      "1961\n",
      "2010Q2 Number of transactions\n",
      "2068\n",
      "2010Q3 Number of transactions\n",
      "1813\n",
      "2010Q4 Number of transactions\n",
      "1939\n",
      "2011Q1 Number of transactions\n",
      "1874\n",
      "2011Q2 Number of transactions\n",
      "1852\n",
      "2011Q3 Number of transactions\n",
      "1851\n",
      "2011Q4 Number of transactions\n",
      "2057\n",
      "2012Q1 Number of transactions\n",
      "2729\n",
      "2012Q2 Number of transactions\n",
      "2718\n",
      "2012Q3 Number of transactions\n",
      "2481\n",
      "2012Q4 Number of transactions\n",
      "2643\n",
      "2013Q1 Number of transactions\n",
      "2345\n",
      "2013Q2 Number of transactions\n",
      "2601\n",
      "2013Q3 Number of transactions\n",
      "2008\n",
      "2013Q4 Number of transactions\n",
      "2285\n",
      "2014Q1 Number of transactions\n",
      "2345\n",
      "2014Q2 Number of transactions\n",
      "2703\n",
      "2014Q3 Number of transactions\n",
      "2525\n",
      "2014Q4 Number of transactions\n",
      "2791\n",
      "2015Q1 Number of transactions\n",
      "2627\n",
      "2015Q2 Number of transactions\n",
      "3078\n",
      "2015Q3 Number of transactions\n",
      "2949\n",
      "2015Q4 Number of transactions\n",
      "3376\n",
      "2016Q1 Number of transactions\n",
      "3286\n",
      "2016Q2 Number of transactions\n",
      "3787\n",
      "2016Q3 Number of transactions\n",
      "3239\n",
      "2016Q4 Number of transactions\n",
      "3706\n",
      "2017Q1 Number of transactions\n",
      "3850\n",
      "2017Q2 Number of transactions\n",
      "4127\n",
      "2017Q3 Number of transactions\n",
      "3423\n",
      "2017Q4 Number of transactions\n",
      "3846\n",
      "2018Q1 Number of transactions\n",
      "3563\n",
      "2018Q2 Number of transactions\n",
      "3490\n",
      "2018Q3 Number of transactions\n",
      "3140\n",
      "2018Q4 Number of transactions\n",
      "3709\n",
      "2019Q1 Number of transactions\n",
      "3361\n",
      "2019Q2 Number of transactions\n",
      "3611\n",
      "2019Q3 Number of transactions\n",
      "3494\n",
      "2019Q4 Number of transactions\n",
      "3605\n",
      "2020Q1 Number of transactions\n",
      "2857\n",
      "2020Q2 Number of transactions\n",
      "2216\n",
      "2020Q3 Number of transactions\n",
      "3457\n",
      "2020Q4 Number of transactions\n",
      "3082\n",
      "2021Q1 Number of transactions\n",
      "2538\n",
      "2021Q2 Number of transactions\n",
      "3993\n",
      "2021Q3 Number of transactions\n",
      "3359\n"
     ]
    }
   ],
   "source": [
    "\n",
    "\n",
    "for key in tabela.keys():\n",
    "    if re.search(\"Number of transactions$\",key): #primer za iteracijo po # transakcij\n",
    "        print(key)\n",
    "        print(tabela[key][zanimiva_vr]) "
   ]
  }
 ],
 "metadata": {
  "interpreter": {
   "hash": "92c103b031046c01bf6a0efcb94771085244c687767fb6fb54744d0cac7d4c7f"
  },
  "kernelspec": {
   "display_name": "Python 3.10.0 64-bit (system)",
   "language": "python",
   "name": "python3"
  },
  "language_info": {
   "codemirror_mode": {
    "name": "ipython",
    "version": 3
   },
   "file_extension": ".py",
   "mimetype": "text/x-python",
   "name": "python",
   "nbconvert_exporter": "python",
   "pygments_lexer": "ipython3",
   "version": "3.10.0"
  },
  "orig_nbformat": 4
 },
 "nbformat": 4,
 "nbformat_minor": 2
}
