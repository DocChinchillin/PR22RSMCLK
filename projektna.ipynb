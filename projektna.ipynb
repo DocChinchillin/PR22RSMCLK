{
 "cells": [
  {
   "cell_type": "markdown",
   "metadata": {},
   "source": [
    "Knjižnice"
   ]
  },
  {
   "cell_type": "code",
   "execution_count": 2,
   "metadata": {},
   "outputs": [],
   "source": [
    "from csv import DictReader\n",
    "import re\n",
    "import matplotlib\n",
    "from matplotlib.pyplot import figure\n",
    "import matplotlib.pyplot as plt\n",
    "import numpy as np"
   ]
  },
  {
   "cell_type": "markdown",
   "metadata": {},
   "source": [
    "Branje podatkov"
   ]
  },
  {
   "cell_type": "code",
   "execution_count": 37,
   "metadata": {},
   "outputs": [
    {
     "name": "stdout",
     "output_type": "stream",
     "text": [
      "{'2010': '734.15', '2011': '748.10', '2012': '763.06', '2013': '783.66', '2014': '789.15', '2015': '790.73', '2016': '790.73', '2017': '804.96', '2018': '842.79', '2019': '886.63', '2020': '940.58', '2021': '1024.24'}\n"
     ]
    }
   ],
   "source": [
    "reader = DictReader(open('podatki/min_place.csv', 'rt', encoding='utf-8'))\n",
    "\n",
    "leto_min_placa = dict()\n",
    "\n",
    "for row in reader:\n",
    "    leto_min_placa[row[\"Leto\"]] = row[\"Placa\"];\n",
    "\n",
    "print(leto_min_placa)"
   ]
  },
  {
   "cell_type": "code",
   "execution_count": 31,
   "metadata": {},
   "outputs": [],
   "source": [
    "reader = DictReader(open('podatki/st_in_vrednost_nepremicnin.csv', 'rt', encoding='utf-8'))\n",
    "\n",
    "tabela_nepr = dict()\n",
    "\n",
    "for col in reader.fieldnames:\n",
    "    tabela_nepr[col] = []\n",
    "    for row in reader:\n",
    "        tabela_nepr[col].append(row[col])\n",
    "    reader = DictReader(open('podatki/st_in_vrednost_nepremicnin.csv', 'rt', encoding='utf-8'))\n"
   ]
  },
  {
   "cell_type": "code",
   "execution_count": 51,
   "metadata": {},
   "outputs": [],
   "source": [
    "reader = DictReader(open('podatki/povp_place.csv', 'rt'))\n",
    "\n",
    "meseci, bruto, bruto3, neto, neto3 = [],[],[],[],[]\n",
    "\n",
    "\n",
    "\n",
    "for row in reader:\n",
    "    meseci.append(row[\"MESEC\"])\n",
    "    bruto.append(row[\"Bruto plaèa Plaèa za mesec [EUR]\"])\n",
    "    bruto3.append(row[\"Bruto plaèa Plaèa za tromeseèje [EUR]\"])\n",
    "    neto.append(row[\"Neto plaèa Plaèa za mesec [EUR]\"])\n",
    "    neto3.append(row[\"Neto plaèa Plaèa za tromeseèje [EUR]\"])\n",
    "\n",
    "povp_place = np.array([meseci,bruto,bruto3,neto,neto3])\n",
    "del meseci,bruto,bruto3,neto,neto3\n"
   ]
  },
  {
   "cell_type": "code",
   "execution_count": 55,
   "metadata": {},
   "outputs": [
    {
     "name": "stdout",
     "output_type": "stream",
     "text": [
      "1539.93\n",
      "1525.86\n",
      "1531.61\n"
     ]
    },
    {
     "data": {
      "text/plain": [
       "array([['2014M08'],\n",
       "       ['1522.25'],\n",
       "       ['1530.00'],\n",
       "       ['996.39'],\n",
       "       ['1000.58']], dtype='<U7')"
      ]
     },
     "execution_count": 55,
     "metadata": {},
     "output_type": "execute_result"
    }
   ],
   "source": [
    "#!!!!!!PAZI TABELA IMA VREDNOSTI V STRING FORMATU, NAREDI PRETVORBO ČE JO RABIŠ!!!!!!!!!!\n",
    "\n",
    "\n",
    "#primer uporabe... stolpci tabele : meseci, bruto, povp zadnjih 3 bruto, neto, povp zadnjih 3 neto\n",
    "for placa in povp_place[1,:3]: #bruto place za prve 3 vnose\n",
    "    print(placa)\n",
    "\n",
    "#koliko je placa specificen datum\n",
    "msk = povp_place[0] == \"2014M08\"\n",
    "povp_place[:,msk] #izpisi vse"
   ]
  },
  {
   "cell_type": "code",
   "execution_count": 68,
   "metadata": {},
   "outputs": [],
   "source": [
    "reader = DictReader(open('podatki/ETN_SLO_CSV_A_KUP/ETN_SLO_KUP_2010_20220326/ETN_SLO_KUP_2010_zemljisca_20220326.csv', 'rt',encoding='utf-8'))\n",
    "\n",
    "cene = []\n",
    "\n",
    "\n",
    "zemljisca_data = []\n",
    "\n",
    "lens = []\n",
    "\n",
    "for row in reader:\n",
    "    o = [d for d in row.values()]\n",
    "    r = o[0].split(\";\")\n",
    "    \n",
    "    if len(r) == 10: #ignoriraj nepravilne vrstice\n",
    "        continue\n",
    "\n",
    "    lens.append(len(r))\n",
    "    zemljisca_data.append(r)\n",
    " \n",
    "zemljisca_data=np.array(zemljisca_data)"
   ]
  },
  {
   "cell_type": "code",
   "execution_count": 80,
   "metadata": {},
   "outputs": [],
   "source": [
    "clean_imena = [x for x in str(reader.fieldnames).strip(\"[]'\").split(\";\")]"
   ]
  },
  {
   "cell_type": "code",
   "execution_count": 81,
   "metadata": {},
   "outputs": [
    {
     "name": "stdout",
     "output_type": "stream",
     "text": [
      "i ime\n",
      "0 ID Posla\n",
      "1 Šifra KO\n",
      "2 Ime KO\n",
      "3 Občina\n",
      "4 Parcelna številka\n",
      "5 Vrsta zemljišča\n",
      "6 Vrsta trajnega nasada\n",
      "7 Starost trajnega nasada\n",
      "8 Prodani delež parcele\n",
      "9 Opombe o nepremičnini\n",
      "10 Površina parcele\n",
      "11 Pogodbena cena parcele\n",
      "12 Stopnja DDV parcele\n"
     ]
    }
   ],
   "source": [
    "print(\"i ime\")\n",
    "for n,ime in enumerate(clean_imena):\n",
    "    print(f\"{n} {ime}\")\n",
    "\n",
    "del clean_imena"
   ]
  },
  {
   "cell_type": "code",
   "execution_count": 70,
   "metadata": {},
   "outputs": [
    {
     "data": {
      "text/plain": [
       "(array([13]), array([45246], dtype=int64))"
      ]
     },
     "execution_count": 70,
     "metadata": {},
     "output_type": "execute_result"
    }
   ],
   "source": [
    "np.unique(lens,return_counts=True)"
   ]
  },
  {
   "cell_type": "code",
   "execution_count": 93,
   "metadata": {},
   "outputs": [
    {
     "name": "stdout",
     "output_type": "stream",
     "text": [
      "0\n"
     ]
    }
   ],
   "source": [
    "#stevilo zapisov o ceni\n",
    "print(sum(zemljisca_data[:,11] != ''))"
   ]
  },
  {
   "cell_type": "code",
   "execution_count": 92,
   "metadata": {},
   "outputs": [
    {
     "name": "stdout",
     "output_type": "stream",
     "text": [
      "['-519154' '1167' 'NEGONJE' 'ROGAŠKA SLATINA' '295/13' '6' '' ''\n",
      " '369/1000' '' '2774' '' '']\n"
     ]
    }
   ],
   "source": [
    "print(zemljisca_data[1,:])"
   ]
  },
  {
   "cell_type": "markdown",
   "metadata": {},
   "source": [
    "Analiza podatkov"
   ]
  },
  {
   "cell_type": "code",
   "execution_count": 40,
   "metadata": {},
   "outputs": [
    {
     "name": "stdout",
     "output_type": "stream",
     "text": [
      "['1 Dwellings - TOTAL', '1.1 Newly built dwellings', '1.1.1 Newly built flats', '1.1.2 Newly built family houses', '1.2 Existing dwellings', '1.2.1 Existing flats, Slovenia', '1.2.2 Existing family houses']\n",
      "0\n"
     ]
    }
   ],
   "source": [
    "stolpci = tabela_nepr.keys() #vsi stolpci\n",
    "\n",
    "\n",
    "vrstica = tabela_nepr[\"DWELLINGS\"] #prvi stolpec, pove kaj pomeni posamezna vrstica\n",
    "\n",
    "print(vrstica) #izpiši prvi stolpec\n",
    "\n",
    "zanimiva_vr = vrstica.index(\"1 Dwellings - TOTAL\")  #pridobi vrstico, ki te zanima\n",
    "\n",
    "print(zanimiva_vr)\n"
   ]
  },
  {
   "cell_type": "code",
   "execution_count": 33,
   "metadata": {},
   "outputs": [
    {
     "name": "stdout",
     "output_type": "stream",
     "text": [
      "2010Q1 Number of transactions\n",
      "1961\n",
      "2010Q2 Number of transactions\n",
      "2068\n",
      "2010Q3 Number of transactions\n",
      "1813\n",
      "2010Q4 Number of transactions\n",
      "1939\n",
      "2011Q1 Number of transactions\n",
      "1874\n",
      "2011Q2 Number of transactions\n",
      "1852\n",
      "2011Q3 Number of transactions\n",
      "1851\n",
      "2011Q4 Number of transactions\n",
      "2057\n",
      "2012Q1 Number of transactions\n",
      "2729\n",
      "2012Q2 Number of transactions\n",
      "2718\n",
      "2012Q3 Number of transactions\n",
      "2481\n",
      "2012Q4 Number of transactions\n",
      "2643\n",
      "2013Q1 Number of transactions\n",
      "2345\n",
      "2013Q2 Number of transactions\n",
      "2601\n",
      "2013Q3 Number of transactions\n",
      "2008\n",
      "2013Q4 Number of transactions\n",
      "2285\n",
      "2014Q1 Number of transactions\n",
      "2345\n",
      "2014Q2 Number of transactions\n",
      "2703\n",
      "2014Q3 Number of transactions\n",
      "2525\n",
      "2014Q4 Number of transactions\n",
      "2791\n",
      "2015Q1 Number of transactions\n",
      "2627\n",
      "2015Q2 Number of transactions\n",
      "3078\n",
      "2015Q3 Number of transactions\n",
      "2949\n",
      "2015Q4 Number of transactions\n",
      "3376\n",
      "2016Q1 Number of transactions\n",
      "3286\n",
      "2016Q2 Number of transactions\n",
      "3787\n",
      "2016Q3 Number of transactions\n",
      "3239\n",
      "2016Q4 Number of transactions\n",
      "3706\n",
      "2017Q1 Number of transactions\n",
      "3850\n",
      "2017Q2 Number of transactions\n",
      "4127\n",
      "2017Q3 Number of transactions\n",
      "3423\n",
      "2017Q4 Number of transactions\n",
      "3846\n",
      "2018Q1 Number of transactions\n",
      "3563\n",
      "2018Q2 Number of transactions\n",
      "3490\n",
      "2018Q3 Number of transactions\n",
      "3140\n",
      "2018Q4 Number of transactions\n",
      "3709\n",
      "2019Q1 Number of transactions\n",
      "3361\n",
      "2019Q2 Number of transactions\n",
      "3611\n",
      "2019Q3 Number of transactions\n",
      "3494\n",
      "2019Q4 Number of transactions\n",
      "3605\n",
      "2020Q1 Number of transactions\n",
      "2857\n",
      "2020Q2 Number of transactions\n",
      "2216\n",
      "2020Q3 Number of transactions\n",
      "3457\n",
      "2020Q4 Number of transactions\n",
      "3082\n",
      "2021Q1 Number of transactions\n",
      "2538\n",
      "2021Q2 Number of transactions\n",
      "3993\n",
      "2021Q3 Number of transactions\n",
      "3359\n"
     ]
    }
   ],
   "source": [
    "\n",
    "\n",
    "for key in tabela_nepr.keys():\n",
    "    if re.search(\"Number of transactions$\",key): #primer za iteracijo po # transakcij\n",
    "        print(key)\n",
    "        print(tabela_nepr[key][zanimiva_vr]) "
   ]
  }
 ],
 "metadata": {
  "interpreter": {
   "hash": "92c103b031046c01bf6a0efcb94771085244c687767fb6fb54744d0cac7d4c7f"
  },
  "kernelspec": {
   "display_name": "Python 3.10.0 64-bit (system)",
   "language": "python",
   "name": "python3"
  },
  "language_info": {
   "codemirror_mode": {
    "name": "ipython",
    "version": 3
   },
   "file_extension": ".py",
   "mimetype": "text/x-python",
   "name": "python",
   "nbconvert_exporter": "python",
   "pygments_lexer": "ipython3",
   "version": "3.10.0"
  },
  "orig_nbformat": 4
 },
 "nbformat": 4,
 "nbformat_minor": 2
}
