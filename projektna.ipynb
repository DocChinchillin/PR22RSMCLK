{
 "cells": [
  {
   "cell_type": "markdown",
   "metadata": {},
   "source": [
    "Knjižnice"
   ]
  },
  {
   "cell_type": "code",
   "execution_count": 1,
   "metadata": {},
   "outputs": [],
   "source": [
    "import csv\n",
    "from csv import DictReader\n",
    "import re\n",
    "import matplotlib\n",
    "from matplotlib.pyplot import figure\n",
    "import matplotlib.pyplot as plt\n",
    "import numpy as np\n",
    "import sys"
   ]
  },
  {
   "cell_type": "markdown",
   "metadata": {},
   "source": [
    "Branje podatkov"
   ]
  },
  {
   "cell_type": "code",
   "execution_count": 2,
   "metadata": {},
   "outputs": [
    {
     "name": "stdout",
     "output_type": "stream",
     "text": [
      "{'2010': '734.15', '2011': '748.10', '2012': '763.06', '2013': '783.66', '2014': '789.15', '2015': '790.73', '2016': '790.73', '2017': '804.96', '2018': '842.79', '2019': '886.63', '2020': '940.58', '2021': '1024.24'}\n"
     ]
    }
   ],
   "source": [
    "reader = DictReader(open('podatki/min_place.csv', 'rt', encoding='utf-8'))\n",
    "\n",
    "leto_min_placa = dict()\n",
    "\n",
    "for row in reader:\n",
    "    leto_min_placa[row[\"Leto\"]] = row[\"Placa\"];\n",
    "\n",
    "print(leto_min_placa)"
   ]
  },
  {
   "cell_type": "code",
   "execution_count": 3,
   "metadata": {},
   "outputs": [],
   "source": [
    "reader = DictReader(open('podatki/st_in_vrednost_nepremicnin.csv', 'rt', encoding='utf-8'))\n",
    "\n",
    "tabela_nepr = dict()\n",
    "\n",
    "for col in reader.fieldnames:\n",
    "    tabela_nepr[col] = []\n",
    "    for row in reader:\n",
    "        tabela_nepr[col].append(row[col])\n",
    "    reader = DictReader(open('podatki/st_in_vrednost_nepremicnin.csv', 'rt', encoding='utf-8'))\n"
   ]
  },
  {
   "cell_type": "code",
   "execution_count": 4,
   "metadata": {},
   "outputs": [],
   "source": [
    "reader = DictReader(open('podatki/povp_place.csv', 'rt'))\n",
    "\n",
    "meseci, bruto, bruto3, neto, neto3 = [],[],[],[],[]\n",
    "\n",
    "\n",
    "\n",
    "for row in reader:\n",
    "    meseci.append(row[\"MESEC\"])\n",
    "    bruto.append(row[\"Bruto plaèa Plaèa za mesec [EUR]\"])\n",
    "    bruto3.append(row[\"Bruto plaèa Plaèa za tromeseèje [EUR]\"])\n",
    "    neto.append(row[\"Neto plaèa Plaèa za mesec [EUR]\"])\n",
    "    neto3.append(row[\"Neto plaèa Plaèa za tromeseèje [EUR]\"])\n",
    "\n",
    "povp_place = np.array([meseci,bruto,bruto3,neto,neto3])\n",
    "del meseci,bruto,bruto3,neto,neto3\n"
   ]
  },
  {
   "cell_type": "code",
   "execution_count": 5,
   "metadata": {},
   "outputs": [
    {
     "name": "stdout",
     "output_type": "stream",
     "text": [
      "1539.93\n",
      "1525.86\n",
      "1531.61\n"
     ]
    },
    {
     "data": {
      "text/plain": [
       "array([['2014M08'],\n",
       "       ['1522.25'],\n",
       "       ['1530.00'],\n",
       "       ['996.39'],\n",
       "       ['1000.58']], dtype='<U7')"
      ]
     },
     "execution_count": 5,
     "metadata": {},
     "output_type": "execute_result"
    }
   ],
   "source": [
    "#!!!!!!PAZI TABELA IMA VREDNOSTI V STRING FORMATU, NAREDI PRETVORBO ČE JO RABIŠ!!!!!!!!!!\n",
    "\n",
    "\n",
    "#primer uporabe... stolpci tabele : meseci, bruto, povp zadnjih 3 bruto, neto, povp zadnjih 3 neto\n",
    "for placa in povp_place[1,:3]: #bruto place za prve 3 vnose\n",
    "    print(placa)\n",
    "\n",
    "#koliko je placa specificen datum\n",
    "msk = povp_place[0] == \"2014M08\"\n",
    "povp_place[:,msk] #izpisi vse"
   ]
  },
  {
   "cell_type": "code",
   "execution_count": 6,
   "metadata": {},
   "outputs": [],
   "source": [
    "def EtnRead(year, tip, header = None): #header je če nas zanima le header vrstica, določene ETN datoteke\n",
    "    if tip not in ('posli','delistavb','zemljisca'): #table get check\n",
    "        print(f'Unknown file name \"{tip}\";\\nAllowed : \"posli\" , \"delistavb\", \"zemljisca\"')\n",
    "        return None\n",
    "\n",
    "    if not (2006 < year < 2023):  #year range check\n",
    "        print(f'Incorrect year: {year}\\nRange is [2007,2022]')\n",
    "        return None\n",
    "                            #index stolpca opombe, ki ga zbrišemo saj nam opomba lahko bloata np table\n",
    "                            #index opombe v csvju : posli = zemljisca = 9 , delistavb = 27\n",
    "                            ####če je treba preskočiti še kakšen stolpec, dodaj v pravi list index stolpca###\n",
    "    indexi = [9]            \n",
    "    if tip == 'delistavb':\n",
    "        indexi = [27]\n",
    "        \n",
    "    if tip == 'zemljisca':\n",
    "        pass        #preskoci\n",
    "\n",
    "\n",
    "    data_path = f'podatki/ETN_SLO_CSV_A_KUP/ETN_SLO_KUP_{year}_20220326/ETN_SLO_KUP_{year}_{tip}_20220326.csv'\n",
    "\n",
    "    with open(data_path,encoding='utf-8') as csvfile:\n",
    "        reader = csv.reader(csvfile, delimiter=';')\n",
    "        data = []\n",
    "\n",
    "        head = next(reader,None) #skip header\n",
    "\n",
    "        if header:\n",
    "            return head #vrne header row\n",
    "\n",
    "        for row in reader:\n",
    "            try:\n",
    "                for i in indexi:\n",
    "                    row[i] = \"\"\n",
    "            except Exception as e:\n",
    "                print(row)\n",
    "                print(e)\n",
    "                return\n",
    "            data.append(row)\n",
    "    \n",
    "    return np.array(data)\n"
   ]
  },
  {
   "cell_type": "code",
   "execution_count": 9,
   "metadata": {},
   "outputs": [],
   "source": [
    "\n",
    "#zemljisca2010 = EtnRead(2010,'zemljisca')\n",
    "posli2010 = EtnRead(2010,'posli')\n",
    "delistavb2010 = EtnRead(2010,'delistavb')\n"
   ]
  },
  {
   "cell_type": "code",
   "execution_count": 10,
   "metadata": {},
   "outputs": [
    {
     "name": "stdout",
     "output_type": "stream",
     "text": [
      "(0, 'ID Posla')\n",
      "(1, 'Šifra KO')\n",
      "(2, 'Ime KO')\n",
      "(3, 'Občina')\n",
      "(4, 'Številka stavbe')\n",
      "(5, 'Številka dela stavbe')\n",
      "(6, 'Parcelna številka za geolokacijo')\n",
      "(7, 'Interna oznaka dela stavbe')\n",
      "(8, 'Evidentiranost dela stavbe')\n",
      "(9, 'Naselje')\n",
      "(10, 'Ulica')\n",
      "(11, 'Hišna številka')\n",
      "(12, 'Dodatek HŠ')\n",
      "(13, 'Številka stanovanja ali poslovnega prostora')\n",
      "(14, 'Vrsta dela stavbe')\n",
      "(15, 'Leto izgradnje dela stavbe')\n",
      "(16, 'Stavba je dokončana')\n",
      "(17, 'Gradbena faza')\n",
      "(18, 'Novogradnja')\n",
      "(19, 'Prodana površina')\n",
      "(20, 'Prodani delež dela stavbe')\n",
      "(21, 'Prodana površina dela stavbe')\n",
      "(22, 'Prodana uporabna površina dela stavbe')\n",
      "(23, 'Nadstropje dela stavbe')\n",
      "(24, 'Število zunanjih parkirnih mest')\n",
      "(25, 'Atrij')\n",
      "(26, 'Površina atrija')\n",
      "(27, 'Opombe o nepremičnini')\n",
      "(28, 'Dejanska raba dela stavbe')\n",
      "(29, 'Lega dela stavbe v stavbi')\n",
      "(30, 'Število sob')\n",
      "(31, 'Površina dela stavbe')\n",
      "(32, 'Uporabna površina')\n",
      "(33, 'Prostori dela stavbe')\n",
      "(34, 'Pogodbena cena dela stavbe')\n",
      "(35, 'Stopnja DDV dela stavbe')\n"
     ]
    }
   ],
   "source": [
    "#_ =[print(x) for x in enumerate(EtnRead(2010,'zemljisca',True))] \n",
    "_ =[print(x) for x in enumerate(EtnRead(2010,'delistavb',True))]\n"
   ]
  },
  {
   "cell_type": "code",
   "execution_count": 11,
   "metadata": {},
   "outputs": [],
   "source": [
    "def getDictPosli(posliData):\n",
    "    dict_posli = {}\n",
    "    for row in posliData:\n",
    "        if row[4] == '' or row[4] == '0':  # cene 0 smiselne?\n",
    "            continue\n",
    "        dict_posli[row[0]] = float(row[4].replace(\",\",\".\"))\n",
    "    return dict_posli"
   ]
  },
  {
   "cell_type": "code",
   "execution_count": 12,
   "metadata": {},
   "outputs": [],
   "source": [
    "def getDictStavbe(delistavbData):\n",
    "    dict_stavbe = {}\n",
    "    for row in delistavbData:\n",
    "        if row[14] not in ('1','2'): #če stavba ni stanovalska hiša ali stanovanje jo preskoči\n",
    "            continue\n",
    "\n",
    "        povrsina = row[19] #stolpec 'Prodana površina'\n",
    "\n",
    "        \n",
    "        if povrsina == '': #ce ni podatka o povrsini\n",
    "            continue\n",
    "\n",
    "        povrsina = float(povrsina.replace(\",\",\".\")) \n",
    "        \n",
    "        if povrsina == 0: #ce je povrsina 0\n",
    "            continue\n",
    "\n",
    "        obcina = row[3]\n",
    "        \n",
    "        dict_stavbe[row[0]] = (povrsina, obcina) \n",
    "        \n",
    "        #(row[19],row[20],row[21],row[22])\n",
    "    return dict_stavbe"
   ]
  },
  {
   "cell_type": "code",
   "execution_count": 13,
   "metadata": {},
   "outputs": [],
   "source": [
    "def generateCenaNaMeter(dictStavbe,dictPosli):\n",
    "    kljuci = dictStavbe.keys()\n",
    "    naMeter = []\n",
    "    for kljuc in kljuci:\n",
    "        if kljuc not in dictPosli:\n",
    "            continue\n",
    "        cena = dictPosli[kljuc]\n",
    "        povrsina = dictStavbe[kljuc][0] # [0] nam da povrsino, [1] bi dal obcino\n",
    "        naMeter.append(cena/povrsina)\n",
    "    return sum(naMeter) / len(naMeter)"
   ]
  },
  {
   "cell_type": "code",
   "execution_count": 14,
   "metadata": {},
   "outputs": [],
   "source": [
    "def getAllCnM(): #get all cena na meter\n",
    "    cenaNaMeter = dict()\n",
    "    for i in range(2007,2023):\n",
    "        \n",
    "        dictPosli = getDictPosli(EtnRead(i,'posli'))\n",
    "        dictStavbe = getDictStavbe(EtnRead(i,'delistavb'))\n",
    "        naMeter = generateCenaNaMeter(dictStavbe,dictPosli)\n",
    "        cenaNaMeter[i] = naMeter\n",
    "        print(f\"Leto {i} cena na meter: {naMeter}\")\n",
    "    return cenaNaMeter\n",
    "    "
   ]
  },
  {
   "cell_type": "code",
   "execution_count": 15,
   "metadata": {},
   "outputs": [
    {
     "name": "stdout",
     "output_type": "stream",
     "text": [
      "Leto 2007 cena na meter: 1589.7148609612602\n",
      "Leto 2008 cena na meter: 4837.010356537396\n",
      "Leto 2009 cena na meter: 4159.273340415848\n",
      "Leto 2010 cena na meter: 3743.4479749743177\n",
      "Leto 2011 cena na meter: 2775.8632679091434\n",
      "Leto 2012 cena na meter: 3546.1035434833743\n",
      "Leto 2013 cena na meter: 1886.054125450965\n",
      "Leto 2014 cena na meter: 1300.185275085118\n",
      "Leto 2015 cena na meter: 1168.9791923411492\n",
      "Leto 2016 cena na meter: 1147.7294070988437\n",
      "Leto 2017 cena na meter: 1150.2374186793254\n",
      "Leto 2018 cena na meter: 1244.5424858400695\n",
      "Leto 2019 cena na meter: 1296.6778445823497\n",
      "Leto 2020 cena na meter: 1423.104298621578\n",
      "Leto 2021 cena na meter: 1560.6362667229089\n",
      "Leto 2022 cena na meter: 2628.8502865434043\n"
     ]
    }
   ],
   "source": [
    "cenaNaMeter = getAllCnM()"
   ]
  },
  {
   "cell_type": "markdown",
   "metadata": {},
   "source": [
    "Analiza podatkov"
   ]
  },
  {
   "cell_type": "code",
   "execution_count": null,
   "metadata": {},
   "outputs": [],
   "source": [
    "allDataLenVsi = []\n",
    "manka19Vsi = []\n",
    "manka22Vsi = []\n",
    "mankaObaVsi = []\n",
    "\n",
    "for i in range(2007,2023):\n",
    "    deliStavbData = EtnRead(i,'delistavb')\n",
    "\n",
    "    #zakomentiraj spodnji dve vrstici če te zanimajo vsi podatki\n",
    "    # in ne samo podatki o stanovanjih in stanovanskih hišah\n",
    "    mask = np.logical_or(deliStavbData[:,14] == '1',deliStavbData[:,14] == '2')\n",
    "    deliStavbData = deliStavbData[mask,:]\n",
    "\n",
    "    allDataLen = deliStavbData.shape[0]\n",
    "    manka19 = sum(deliStavbData[:,19] == '') / allDataLen\n",
    "    manka22 = sum(deliStavbData[:,22] == '') / allDataLen\n",
    "    mankaOba = sum(np.logical_and(deliStavbData[:,19] == '', deliStavbData[:,22] == '')) / allDataLen\n",
    "\n",
    "    del deliStavbData\n",
    "\n",
    "    allDataLenVsi.append(allDataLen)\n",
    "    manka19Vsi.append(manka19)\n",
    "    manka22Vsi.append(manka22)\n",
    "    mankaObaVsi.append(mankaOba)\n"
   ]
  },
  {
   "cell_type": "code",
   "execution_count": null,
   "metadata": {},
   "outputs": [],
   "source": [
    "plt.plot(range(2007,2023),allDataLenVsi)\n",
    "plt.xlabel(\"Leto\")\n",
    "plt.ylabel(\"Delež\")\n",
    "plt.title(\"Število podatkov o stavbah po letu\")\n",
    "plt.show()\n",
    "\n",
    "\n",
    "plt.plot(range(2007,2023),manka19Vsi)\n",
    "plt.xlabel(\"Leto\")\n",
    "plt.ylabel(\"Delež\")\n",
    "plt.title(\"Delež mankajočih podatkov o (19) 'Prodana površina'\")\n",
    "plt.show()\n",
    "\n",
    "plt.plot(range(2007,2023),manka22Vsi)\n",
    "plt.xlabel(\"Leto\")\n",
    "plt.ylabel(\"Delež\")\n",
    "plt.title(\"Delež mankajočih podatkov o (22) 'Prodana uporabna površina dela stavbe'\")\n",
    "plt.show()\n",
    "\n",
    "plt.plot(range(2007,2023),mankaObaVsi)\n",
    "plt.xlabel(\"Leto\")\n",
    "plt.ylabel(\"Delež\")\n",
    "plt.title(\"Delež mankajočih podatkov o (19) in (22)\")\n",
    "plt.show()"
   ]
  },
  {
   "cell_type": "code",
   "execution_count": 16,
   "metadata": {},
   "outputs": [
    {
     "name": "stdout",
     "output_type": "stream",
     "text": [
      "['1 Dwellings - TOTAL', '1.1 Newly built dwellings', '1.1.1 Newly built flats', '1.1.2 Newly built family houses', '1.2 Existing dwellings', '1.2.1 Existing flats, Slovenia', '1.2.2 Existing family houses']\n",
      "0\n"
     ]
    }
   ],
   "source": [
    "stolpci = tabela_nepr.keys() #vsi stolpci\n",
    "\n",
    "\n",
    "vrstica = tabela_nepr[\"DWELLINGS\"] #prvi stolpec, pove kaj pomeni posamezna vrstica\n",
    "\n",
    "print(vrstica) #izpiši prvi stolpec\n",
    "\n",
    "zanimiva_vr = vrstica.index(\"1 Dwellings - TOTAL\")  #pridobi vrstico, ki te zanima\n",
    "\n",
    "print(zanimiva_vr)\n"
   ]
  },
  {
   "cell_type": "code",
   "execution_count": 17,
   "metadata": {},
   "outputs": [
    {
     "name": "stdout",
     "output_type": "stream",
     "text": [
      "2010Q1 Number of transactions\n",
      "1961\n",
      "2010Q2 Number of transactions\n",
      "2068\n",
      "2010Q3 Number of transactions\n",
      "1813\n",
      "2010Q4 Number of transactions\n",
      "1939\n",
      "2011Q1 Number of transactions\n",
      "1874\n",
      "2011Q2 Number of transactions\n",
      "1852\n",
      "2011Q3 Number of transactions\n",
      "1851\n",
      "2011Q4 Number of transactions\n",
      "2057\n",
      "2012Q1 Number of transactions\n",
      "2729\n",
      "2012Q2 Number of transactions\n",
      "2718\n",
      "2012Q3 Number of transactions\n",
      "2481\n",
      "2012Q4 Number of transactions\n",
      "2643\n",
      "2013Q1 Number of transactions\n",
      "2345\n",
      "2013Q2 Number of transactions\n",
      "2601\n",
      "2013Q3 Number of transactions\n",
      "2008\n",
      "2013Q4 Number of transactions\n",
      "2285\n",
      "2014Q1 Number of transactions\n",
      "2345\n",
      "2014Q2 Number of transactions\n",
      "2703\n",
      "2014Q3 Number of transactions\n",
      "2525\n",
      "2014Q4 Number of transactions\n",
      "2791\n",
      "2015Q1 Number of transactions\n",
      "2627\n",
      "2015Q2 Number of transactions\n",
      "3078\n",
      "2015Q3 Number of transactions\n",
      "2949\n",
      "2015Q4 Number of transactions\n",
      "3376\n",
      "2016Q1 Number of transactions\n",
      "3286\n",
      "2016Q2 Number of transactions\n",
      "3787\n",
      "2016Q3 Number of transactions\n",
      "3239\n",
      "2016Q4 Number of transactions\n",
      "3706\n",
      "2017Q1 Number of transactions\n",
      "3850\n",
      "2017Q2 Number of transactions\n",
      "4127\n",
      "2017Q3 Number of transactions\n",
      "3423\n",
      "2017Q4 Number of transactions\n",
      "3846\n",
      "2018Q1 Number of transactions\n",
      "3563\n",
      "2018Q2 Number of transactions\n",
      "3490\n",
      "2018Q3 Number of transactions\n",
      "3140\n",
      "2018Q4 Number of transactions\n",
      "3709\n",
      "2019Q1 Number of transactions\n",
      "3361\n",
      "2019Q2 Number of transactions\n",
      "3611\n",
      "2019Q3 Number of transactions\n",
      "3494\n",
      "2019Q4 Number of transactions\n",
      "3605\n",
      "2020Q1 Number of transactions\n",
      "2857\n",
      "2020Q2 Number of transactions\n",
      "2216\n",
      "2020Q3 Number of transactions\n",
      "3457\n",
      "2020Q4 Number of transactions\n",
      "3082\n",
      "2021Q1 Number of transactions\n",
      "2538\n",
      "2021Q2 Number of transactions\n",
      "3993\n",
      "2021Q3 Number of transactions\n",
      "3359\n"
     ]
    }
   ],
   "source": [
    "\n",
    "\n",
    "for key in tabela_nepr.keys():\n",
    "    if re.search(\"Number of transactions$\",key): #primer za iteracijo po # transakcij\n",
    "        print(key)\n",
    "        print(tabela_nepr[key][zanimiva_vr]) "
   ]
  },
  {
   "cell_type": "markdown",
   "metadata": {},
   "source": [
    "Random stuff"
   ]
  },
  {
   "cell_type": "code",
   "execution_count": 18,
   "metadata": {},
   "outputs": [],
   "source": [
    "def sizeof_fmt(num, suffix=\"B\"): #funkcija za formatiranje izpisa velikosti spremenljivk\n",
    "    for unit in [\"\", \"Ki\", \"Mi\", \"Gi\", \"Ti\", \"Pi\", \"Ei\", \"Zi\"]:\n",
    "        if abs(num) < 1024.0:\n",
    "            return f\"{num:3.1f}{unit}{suffix}\"\n",
    "        num /= 1024.0\n",
    "    return f\"{num:.1f}Yi{suffix}\"\n",
    "\n",
    "#preveri katerih podatkov ne more prebrati \n",
    "def checkRAM(ime):\n",
    "    for i in range(2007,2023):\n",
    "        try:\n",
    "            data = EtnRead(i,ime)\n",
    "            size = sizeof_fmt(sys.getsizeof(data))\n",
    "            print(f\"{i} => {data.dtype}, ram usage: {size}\") #preveri tip tabele ie string length\n",
    "            del data\n",
    "        except Exception as e:\n",
    "            print(f\"{i} => {e}\")  #prikazi katero leto ti vrže (memoryError -> zmankal rama) exception \n",
    "            pass\n",
    "\n",
    "def test():\n",
    "    print('delistavb')\n",
    "    checkRAM('delistavb')\n",
    "    print()\n",
    "\n",
    "    print('zemljisca')\n",
    "    checkRAM('zemljisca')\n",
    "    print()\n",
    "\n",
    "    print('posli')\n",
    "    checkRAM('posli')\n",
    "    \n",
    "#test()"
   ]
  },
  {
   "cell_type": "code",
   "execution_count": 19,
   "metadata": {},
   "outputs": [],
   "source": [
    "def _zemljisca():       #fix ce mislis use\n",
    "    dict_zemljisca = {}\n",
    "    for row in zemljisca2010:\n",
    "        if row[10] == '' or int(row[10]) == '0': # če ni površine preskoči\n",
    "            continue\n",
    "        if row[5] not in (1,2,3,4): #ce ni primernega tipa za stanovanje oz hišo nas ne zanima\n",
    "            pass\n",
    "            #continue\n",
    "        if \"/\" in row[8]: # row[8] != 'NP' and row[8] != '6179844811' and row[8] != '': #preveri pomen NP, ali je Ni Podatka ali kaj\n",
    "            ops = row[8].split(\"/\") \n",
    "        else:\n",
    "            ops = ['1', '1']\n",
    "        \n",
    "        if ops[0] == '':\n",
    "            ops[0] = 1\n",
    "        if ops[1] == '':\n",
    "            ops[1] = 1\n",
    "\n",
    "        prodanDelez = int(ops[0]) / int(ops[1])\n",
    "\n",
    "        if prodanDelez == 0:\n",
    "            continue\n",
    "\n",
    "\n",
    "        povrsinaParcele = float(row[10].replace(\",\",\".\"))\n",
    "        if row[0] in dict_zemljisca:\n",
    "            dict_zemljisca[row[0]]+= povrsinaParcele #* prodanDelez\n",
    "        else:\n",
    "            dict_zemljisca[row[0]] = povrsinaParcele #* prodanDelez"
   ]
  }
 ],
 "metadata": {
  "interpreter": {
   "hash": "92c103b031046c01bf6a0efcb94771085244c687767fb6fb54744d0cac7d4c7f"
  },
  "kernelspec": {
   "display_name": "Python 3.10.0 64-bit (system)",
   "language": "python",
   "name": "python3"
  },
  "language_info": {
   "codemirror_mode": {
    "name": "ipython",
    "version": 3
   },
   "file_extension": ".py",
   "mimetype": "text/x-python",
   "name": "python",
   "nbconvert_exporter": "python",
   "pygments_lexer": "ipython3",
   "version": "3.9.7"
  },
  "orig_nbformat": 4
 },
 "nbformat": 4,
 "nbformat_minor": 2
}
