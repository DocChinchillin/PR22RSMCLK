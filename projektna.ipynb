{
 "cells": [
  {
   "cell_type": "markdown",
   "metadata": {},
   "source": [
    "Knjižnice"
   ]
  },
  {
   "cell_type": "code",
   "execution_count": 1,
   "metadata": {},
   "outputs": [],
   "source": [
    "import csv\n",
    "from csv import DictReader\n",
    "import re\n",
    "import matplotlib\n",
    "from matplotlib.pyplot import figure\n",
    "import matplotlib.pyplot as plt\n",
    "import numpy as np\n",
    "import sys"
   ]
  },
  {
   "cell_type": "markdown",
   "metadata": {},
   "source": [
    "Branje podatkov"
   ]
  },
  {
   "cell_type": "code",
   "execution_count": 2,
   "metadata": {},
   "outputs": [
    {
     "name": "stdout",
     "output_type": "stream",
     "text": [
      "{'2010': '734.15', '2011': '748.10', '2012': '763.06', '2013': '783.66', '2014': '789.15', '2015': '790.73', '2016': '790.73', '2017': '804.96', '2018': '842.79', '2019': '886.63', '2020': '940.58', '2021': '1024.24'}\n"
     ]
    }
   ],
   "source": [
    "reader = DictReader(open('podatki/min_place.csv', 'rt', encoding='utf-8'))\n",
    "\n",
    "leto_min_placa = dict()\n",
    "\n",
    "for row in reader:\n",
    "    leto_min_placa[row[\"Leto\"]] = row[\"Placa\"];\n",
    "\n",
    "print(leto_min_placa)"
   ]
  },
  {
   "cell_type": "code",
   "execution_count": 3,
   "metadata": {},
   "outputs": [],
   "source": [
    "reader = DictReader(open('podatki/st_in_vrednost_nepremicnin.csv', 'rt', encoding='utf-8'))\n",
    "\n",
    "tabela_nepr = dict()\n",
    "\n",
    "for col in reader.fieldnames:\n",
    "    tabela_nepr[col] = []\n",
    "    for row in reader:\n",
    "        tabela_nepr[col].append(row[col])\n",
    "    reader = DictReader(open('podatki/st_in_vrednost_nepremicnin.csv', 'rt', encoding='utf-8'))\n"
   ]
  },
  {
   "cell_type": "code",
   "execution_count": 4,
   "metadata": {},
   "outputs": [],
   "source": [
    "reader = DictReader(open('podatki/povp_place.csv', 'rt'))\n",
    "\n",
    "meseci, bruto, bruto3, neto, neto3 = [],[],[],[],[]\n",
    "\n",
    "\n",
    "\n",
    "for row in reader:\n",
    "    meseci.append(row[\"MESEC\"])\n",
    "    bruto.append(row[\"Bruto plaèa Plaèa za mesec [EUR]\"])\n",
    "    bruto3.append(row[\"Bruto plaèa Plaèa za tromeseèje [EUR]\"])\n",
    "    neto.append(row[\"Neto plaèa Plaèa za mesec [EUR]\"])\n",
    "    neto3.append(row[\"Neto plaèa Plaèa za tromeseèje [EUR]\"])\n",
    "\n",
    "povp_place = np.array([meseci,bruto,bruto3,neto,neto3])\n",
    "del meseci,bruto,bruto3,neto,neto3\n"
   ]
  },
  {
   "cell_type": "code",
   "execution_count": 5,
   "metadata": {},
   "outputs": [
    {
     "name": "stdout",
     "output_type": "stream",
     "text": [
      "1539.93\n",
      "1525.86\n",
      "1531.61\n"
     ]
    },
    {
     "data": {
      "text/plain": [
       "array([['2014M08'],\n",
       "       ['1522.25'],\n",
       "       ['1530.00'],\n",
       "       ['996.39'],\n",
       "       ['1000.58']], dtype='<U7')"
      ]
     },
     "execution_count": 5,
     "metadata": {},
     "output_type": "execute_result"
    }
   ],
   "source": [
    "#!!!!!!PAZI TABELA IMA VREDNOSTI V STRING FORMATU, NAREDI PRETVORBO ČE JO RABIŠ!!!!!!!!!!\n",
    "\n",
    "\n",
    "#primer uporabe... stolpci tabele : meseci, bruto, povp zadnjih 3 bruto, neto, povp zadnjih 3 neto\n",
    "for placa in povp_place[1,:3]: #bruto place za prve 3 vnose\n",
    "    print(placa)\n",
    "\n",
    "#koliko je placa specificen datum\n",
    "msk = povp_place[0] == \"2014M08\"\n",
    "povp_place[:,msk] #izpisi vse"
   ]
  },
  {
   "cell_type": "code",
   "execution_count": 6,
   "metadata": {},
   "outputs": [],
   "source": [
    "def EtnRead(year, tip, header = None): #header je če nas zanima le header vrstica, določene ETN datoteke\n",
    "    if tip not in ('posli','delistavb','zemljisca'): #table get check\n",
    "        print(f'Unknown file name \"{tip}\";\\nAllowed : \"posli\" , \"delistavb\", \"zemljisca\"')\n",
    "        return None\n",
    "\n",
    "    if not (2006 < year < 2023):  #year range check\n",
    "        print(f'Incorrect year: {year}\\nRange is [2007,2022]')\n",
    "        return None\n",
    "                            #index stolpca opombe, ki ga zbrišemo saj nam opomba lahko bloata np table\n",
    "                            #index opombe v csvju : posli = zemljisca = 9 , delistavb = 27\n",
    "                            ####če je treba preskočiti še kakšen stolpec, dodaj v pravi list index stolpca###\n",
    "    indexi = [9]            \n",
    "    if tip == 'delistavb':\n",
    "        indexi = [27]\n",
    "        \n",
    "    if tip == 'zemljisca':\n",
    "        pass        #preskoci\n",
    "\n",
    "\n",
    "    data_path = f'podatki/ETN_SLO_CSV_A_KUP/ETN_SLO_KUP_{year}_20220326/ETN_SLO_KUP_{year}_{tip}_20220326.csv'\n",
    "\n",
    "    with open(data_path,encoding='utf-8') as csvfile:\n",
    "        reader = csv.reader(csvfile, delimiter=';')\n",
    "        data = []\n",
    "\n",
    "        head = next(reader,None) #skip header\n",
    "\n",
    "        if header:\n",
    "            return head #vrne header row\n",
    "\n",
    "        for row in reader:\n",
    "            try:\n",
    "                for i in indexi:\n",
    "                    row[i] = \"\"\n",
    "            except Exception as e:\n",
    "                print(row)\n",
    "                print(e)\n",
    "                return\n",
    "            data.append(row)\n",
    "    \n",
    "    return np.array(data)\n"
   ]
  },
  {
   "cell_type": "code",
   "execution_count": 7,
   "metadata": {},
   "outputs": [],
   "source": [
    "\n",
    "posli2010 = EtnRead(2010,'posli')\n",
    "posli2010Head = EtnRead(2010,'posli',True)\n",
    "zemljisca2010 = EtnRead(2010,'zemljisca')\n",
    "delistavb2010 = EtnRead(2010,'delistavb')\n"
   ]
  },
  {
   "cell_type": "code",
   "execution_count": 8,
   "metadata": {},
   "outputs": [],
   "source": [
    "def sizeof_fmt(num, suffix=\"B\"): #funkcija za formatiranje izpisa velikosti spremenljivk\n",
    "    for unit in [\"\", \"Ki\", \"Mi\", \"Gi\", \"Ti\", \"Pi\", \"Ei\", \"Zi\"]:\n",
    "        if abs(num) < 1024.0:\n",
    "            return f\"{num:3.1f}{unit}{suffix}\"\n",
    "        num /= 1024.0\n",
    "    return f\"{num:.1f}Yi{suffix}\"\n",
    "\n",
    "#preveri katerih podatkov ne more prebrati \n",
    "def checkRAM(ime):\n",
    "    for i in range(2007,2023):\n",
    "        try:\n",
    "            data = EtnRead(i,ime)\n",
    "            size = sizeof_fmt(sys.getsizeof(data))\n",
    "            print(f\"{i} => {data.dtype}, ram usage: {size}\") #preveri tip tabele ie string length\n",
    "            del data\n",
    "        except Exception as e:\n",
    "            print(f\"{i} => {e}\")  #prikazi katero leto ti vrže (memoryError -> zmankal rama) exception \n",
    "            pass\n",
    "\n",
    "def test():\n",
    "    print('delistavb')\n",
    "    checkRAM('delistavb')\n",
    "    print()\n",
    "\n",
    "    print('zemljisca')\n",
    "    checkRAM('zemljisca')\n",
    "    print()\n",
    "\n",
    "    print('posli')\n",
    "    checkRAM('posli')\n",
    "    \n"
   ]
  },
  {
   "cell_type": "code",
   "execution_count": 9,
   "metadata": {},
   "outputs": [
    {
     "name": "stdout",
     "output_type": "stream",
     "text": [
      "delistavb\n",
      "2007 => <U80, ram usage: 143.4MiB\n",
      "2008 => <U86, ram usage: 380.4MiB\n",
      "2009 => <U289, ram usage: 929.8MiB\n",
      "2010 => <U289, ram usage: 1.7GiB\n",
      "2011 => <U289, ram usage: 1.7GiB\n",
      "2012 => <U289, ram usage: 1.5GiB\n",
      "2013 => <U289, ram usage: 1.1GiB\n",
      "2014 => <U222, ram usage: 1.1GiB\n",
      "2015 => <U181, ram usage: 673.6MiB\n",
      "2016 => <U196, ram usage: 846.8MiB\n",
      "2017 => <U180, ram usage: 856.3MiB\n",
      "2018 => <U179, ram usage: 774.0MiB\n",
      "2019 => <U163, ram usage: 751.1MiB\n",
      "2020 => <U161, ram usage: 678.6MiB\n",
      "2021 => <U446, ram usage: 2.0GiB\n",
      "2022 => <U161, ram usage: 193.6MiB\n",
      "\n",
      "zemljisca\n",
      "2007 => <U28, ram usage: 14.6MiB\n",
      "2008 => <U32, ram usage: 114.3MiB\n",
      "2009 => <U29, ram usage: 51.4MiB\n",
      "2010 => <U29, ram usage: 65.5MiB\n",
      "2011 => <U29, ram usage: 69.1MiB\n",
      "2012 => <U29, ram usage: 75.6MiB\n",
      "2013 => <U29, ram usage: 67.2MiB\n",
      "2014 => <U29, ram usage: 76.2MiB\n",
      "2015 => <U29, ram usage: 71.2MiB\n",
      "2016 => <U29, ram usage: 79.8MiB\n",
      "2017 => <U29, ram usage: 88.1MiB\n",
      "2018 => <U29, ram usage: 86.4MiB\n",
      "2019 => <U29, ram usage: 96.5MiB\n",
      "2020 => <U29, ram usage: 85.3MiB\n",
      "2021 => <U29, ram usage: 99.2MiB\n",
      "2022 => <U29, ram usage: 23.9MiB\n",
      "\n",
      "posli\n",
      "2007 => <U11, ram usage: 4.5MiB\n",
      "2008 => <U11, ram usage: 29.9MiB\n",
      "2009 => <U10, ram usage: 13.3MiB\n",
      "2010 => <U10, ram usage: 17.1MiB\n",
      "2011 => <U10, ram usage: 17.6MiB\n",
      "2012 => <U10, ram usage: 18.3MiB\n",
      "2013 => <U11, ram usage: 16.8MiB\n",
      "2014 => <U11, ram usage: 21.5MiB\n",
      "2015 => <U11, ram usage: 19.6MiB\n",
      "2016 => <U11, ram usage: 21.5MiB\n",
      "2017 => <U10, ram usage: 20.8MiB\n",
      "2018 => <U10, ram usage: 19.6MiB\n",
      "2019 => <U11, ram usage: 23.2MiB\n",
      "2020 => <U10, ram usage: 19.0MiB\n",
      "2021 => <U11, ram usage: 23.4MiB\n",
      "2022 => <U10, ram usage: 5.5MiB\n"
     ]
    }
   ],
   "source": [
    "test()  #izbrisi/zakomentiraj po testiranju\n"
   ]
  },
  {
   "cell_type": "markdown",
   "metadata": {},
   "source": [
    "Analiza podatkov"
   ]
  },
  {
   "cell_type": "code",
   "execution_count": 10,
   "metadata": {},
   "outputs": [
    {
     "name": "stdout",
     "output_type": "stream",
     "text": [
      "['1 Dwellings - TOTAL', '1.1 Newly built dwellings', '1.1.1 Newly built flats', '1.1.2 Newly built family houses', '1.2 Existing dwellings', '1.2.1 Existing flats, Slovenia', '1.2.2 Existing family houses']\n",
      "0\n"
     ]
    }
   ],
   "source": [
    "stolpci = tabela_nepr.keys() #vsi stolpci\n",
    "\n",
    "\n",
    "vrstica = tabela_nepr[\"DWELLINGS\"] #prvi stolpec, pove kaj pomeni posamezna vrstica\n",
    "\n",
    "print(vrstica) #izpiši prvi stolpec\n",
    "\n",
    "zanimiva_vr = vrstica.index(\"1 Dwellings - TOTAL\")  #pridobi vrstico, ki te zanima\n",
    "\n",
    "print(zanimiva_vr)\n"
   ]
  },
  {
   "cell_type": "code",
   "execution_count": 11,
   "metadata": {},
   "outputs": [
    {
     "name": "stdout",
     "output_type": "stream",
     "text": [
      "2010Q1 Number of transactions\n",
      "1961\n",
      "2010Q2 Number of transactions\n",
      "2068\n",
      "2010Q3 Number of transactions\n",
      "1813\n",
      "2010Q4 Number of transactions\n",
      "1939\n",
      "2011Q1 Number of transactions\n",
      "1874\n",
      "2011Q2 Number of transactions\n",
      "1852\n",
      "2011Q3 Number of transactions\n",
      "1851\n",
      "2011Q4 Number of transactions\n",
      "2057\n",
      "2012Q1 Number of transactions\n",
      "2729\n",
      "2012Q2 Number of transactions\n",
      "2718\n",
      "2012Q3 Number of transactions\n",
      "2481\n",
      "2012Q4 Number of transactions\n",
      "2643\n",
      "2013Q1 Number of transactions\n",
      "2345\n",
      "2013Q2 Number of transactions\n",
      "2601\n",
      "2013Q3 Number of transactions\n",
      "2008\n",
      "2013Q4 Number of transactions\n",
      "2285\n",
      "2014Q1 Number of transactions\n",
      "2345\n",
      "2014Q2 Number of transactions\n",
      "2703\n",
      "2014Q3 Number of transactions\n",
      "2525\n",
      "2014Q4 Number of transactions\n",
      "2791\n",
      "2015Q1 Number of transactions\n",
      "2627\n",
      "2015Q2 Number of transactions\n",
      "3078\n",
      "2015Q3 Number of transactions\n",
      "2949\n",
      "2015Q4 Number of transactions\n",
      "3376\n",
      "2016Q1 Number of transactions\n",
      "3286\n",
      "2016Q2 Number of transactions\n",
      "3787\n",
      "2016Q3 Number of transactions\n",
      "3239\n",
      "2016Q4 Number of transactions\n",
      "3706\n",
      "2017Q1 Number of transactions\n",
      "3850\n",
      "2017Q2 Number of transactions\n",
      "4127\n",
      "2017Q3 Number of transactions\n",
      "3423\n",
      "2017Q4 Number of transactions\n",
      "3846\n",
      "2018Q1 Number of transactions\n",
      "3563\n",
      "2018Q2 Number of transactions\n",
      "3490\n",
      "2018Q3 Number of transactions\n",
      "3140\n",
      "2018Q4 Number of transactions\n",
      "3709\n",
      "2019Q1 Number of transactions\n",
      "3361\n",
      "2019Q2 Number of transactions\n",
      "3611\n",
      "2019Q3 Number of transactions\n",
      "3494\n",
      "2019Q4 Number of transactions\n",
      "3605\n",
      "2020Q1 Number of transactions\n",
      "2857\n",
      "2020Q2 Number of transactions\n",
      "2216\n",
      "2020Q3 Number of transactions\n",
      "3457\n",
      "2020Q4 Number of transactions\n",
      "3082\n",
      "2021Q1 Number of transactions\n",
      "2538\n",
      "2021Q2 Number of transactions\n",
      "3993\n",
      "2021Q3 Number of transactions\n",
      "3359\n"
     ]
    }
   ],
   "source": [
    "\n",
    "\n",
    "for key in tabela_nepr.keys():\n",
    "    if re.search(\"Number of transactions$\",key): #primer za iteracijo po # transakcij\n",
    "        print(key)\n",
    "        print(tabela_nepr[key][zanimiva_vr]) "
   ]
  }
 ],
 "metadata": {
  "interpreter": {
   "hash": "92c103b031046c01bf6a0efcb94771085244c687767fb6fb54744d0cac7d4c7f"
  },
  "kernelspec": {
   "display_name": "Python 3.10.0 64-bit (system)",
   "language": "python",
   "name": "python3"
  },
  "language_info": {
   "codemirror_mode": {
    "name": "ipython",
    "version": 3
   },
   "file_extension": ".py",
   "mimetype": "text/x-python",
   "name": "python",
   "nbconvert_exporter": "python",
   "pygments_lexer": "ipython3",
   "version": "3.10.0"
  },
  "orig_nbformat": 4
 },
 "nbformat": 4,
 "nbformat_minor": 2
}
